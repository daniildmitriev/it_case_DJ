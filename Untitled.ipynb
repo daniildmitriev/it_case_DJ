{
 "cells": [
  {
   "cell_type": "code",
   "execution_count": 1,
   "metadata": {
    "collapsed": true
   },
   "outputs": [],
   "source": [
    "import xgboost"
   ]
  },
  {
   "cell_type": "code",
   "execution_count": 142,
   "metadata": {
    "collapsed": true
   },
   "outputs": [],
   "source": [
    "def f(n, b):\n",
    "    x = (b + 1) / n + (b/(b+1))**b * ((n-b)/(n-b-1))**(n-b) * ((n-b-1)/n)\n",
    "    x = 1 + 1/(6*n) - b / n * x\n",
    "    y = \n",
    "    return "
   ]
  },
  {
   "cell_type": "code",
   "execution_count": 381,
   "metadata": {
    "collapsed": true
   },
   "outputs": [],
   "source": [
    "def g(n, b):\n",
    "    q = (b + 1) / n\n",
    "    w = 1 - q\n",
    "    x = 1 + (n - b) / (n - b - 1)\n",
    "    x -= (b / (b + 1))**b * ((n - b) / (n-b-1))**(n-b)\n",
    "    x *= q**b * w**(n-b)\n",
    "    y = b / n * q**(b-1)* w**(n-b)\n",
    "    z = b / (2*n**2) * q**(b-2) * w**(n-b-1) * (2 - q)\n",
    "    t = (b+1) / (6*n**4) * q**(b-3) * w**(n-b-2) * (-b -2*b)\n",
    "    p = (b+1) / (24*n**4) * q**(b-4) * w**(n-b-3)* (n-b-1) * (-q * (8 + 8*q))\n",
    "    s = b / (120*n**5) * q**(b-5) * w**(n-b-4) * (3*(n-b-1)**2 * q**2 - 2*(n-b-1)*q * (23*w**2 + 7*w - 1))\n",
    "    return (x - y - z - t - p) / q**b / w**(n-b)\n",
    "    \n",
    "    #return -p / q**b / w**(n-b)"
   ]
  },
  {
   "cell_type": "code",
   "execution_count": 384,
   "metadata": {
    "collapsed": true
   },
   "outputs": [],
   "source": [
    "def k(n, b):\n",
    "    return (b / (b+1))**b * ((n-b) / (n-b-1))**(n-b)"
   ]
  },
  {
   "cell_type": "code",
   "execution_count": 469,
   "metadata": {
    "collapsed": true
   },
   "outputs": [],
   "source": [
    "def h(n, b):\n",
    "    #x = (b + 2) / (2 * (b+1)**2)\n",
    "    #y = (n - b) / (n-b-1)\n",
    "    #z = n * (n + b + 1) / (3 * (b+1)**3 * (n-b-1)**2)\n",
    "    x = 1 / (b + 1) + (n - b) / (n - b - 1)\n",
    "    y = -b / (2*(b+1)**2) * n / (n - b - 1) * (2 - (b+1)/n)\n",
    "    t = (b+1) / (6 * (b+1)**3) * n  / (n-b-1) * 2 * b\n",
    "    z = 1 / (b+1)**3\n",
    "    \n",
    "    return x + y + z + t"
   ]
  },
  {
   "cell_type": "code",
   "execution_count": 470,
   "metadata": {
    "collapsed": false
   },
   "outputs": [
    {
     "data": {
      "text/plain": [
       "1.002307786101189"
      ]
     },
     "execution_count": 470,
     "metadata": {},
     "output_type": "execute_result"
    }
   ],
   "source": [
    "h(1000, 300)"
   ]
  },
  {
   "cell_type": "code",
   "execution_count": 464,
   "metadata": {
    "collapsed": false
   },
   "outputs": [
    {
     "data": {
      "text/plain": [
       "1.0023807684527704"
      ]
     },
     "execution_count": 464,
     "metadata": {},
     "output_type": "execute_result"
    }
   ],
   "source": [
    "k(1000, 300)"
   ]
  },
  {
   "cell_type": "code",
   "execution_count": 436,
   "metadata": {
    "collapsed": false
   },
   "outputs": [
    {
     "data": {
      "text/plain": [
       "-0.00040312127678276966"
      ]
     },
     "execution_count": 436,
     "metadata": {},
     "output_type": "execute_result"
    }
   ],
   "source": [
    "h(1000, 200) - k(1000, 200)"
   ]
  },
  {
   "cell_type": "code",
   "execution_count": 437,
   "metadata": {
    "collapsed": false
   },
   "outputs": [
    {
     "data": {
      "text/plain": [
       "-0.0024490365085569313"
      ]
     },
     "execution_count": 437,
     "metadata": {},
     "output_type": "execute_result"
    }
   ],
   "source": [
    "g(1000, 200)"
   ]
  },
  {
   "cell_type": "code",
   "execution_count": 431,
   "metadata": {
    "collapsed": false
   },
   "outputs": [
    {
     "data": {
      "text/plain": [
       "-0.004636221210042146"
      ]
     },
     "execution_count": 431,
     "metadata": {},
     "output_type": "execute_result"
    }
   ],
   "source": [
    "f(100, 100)"
   ]
  },
  {
   "cell_type": "code",
   "execution_count": 432,
   "metadata": {
    "collapsed": true
   },
   "outputs": [],
   "source": [
    "import numpy as np\n",
    "import pandas as pd\n",
    "import matplotlib.pyplot as plt\n",
    "import networkx as nx\n",
    "%matplotlib inline"
   ]
  },
  {
   "cell_type": "code",
   "execution_count": 49,
   "metadata": {
    "collapsed": true
   },
   "outputs": [],
   "source": [
    "from sklearn.linear_model import LogisticRegression\n",
    "from sklearn.model_selection import train_test_split\n",
    "from sklearn.metrics import f1_score"
   ]
  },
  {
   "cell_type": "code",
   "execution_count": 4,
   "metadata": {
    "collapsed": false
   },
   "outputs": [],
   "source": [
    "data = pd.read_csv('contest_train.csv')"
   ]
  },
  {
   "cell_type": "code",
   "execution_count": 9,
   "metadata": {
    "collapsed": false
   },
   "outputs": [],
   "source": [
    "features = data.columns[2:]"
   ]
  },
  {
   "cell_type": "code",
   "execution_count": 81,
   "metadata": {
    "collapsed": true
   },
   "outputs": [],
   "source": [
    "X, y = data[features], data['TARGET']"
   ]
  },
  {
   "cell_type": "code",
   "execution_count": 89,
   "metadata": {
    "collapsed": false
   },
   "outputs": [],
   "source": [
    "corr_map = X.corr()"
   ]
  },
  {
   "cell_type": "code",
   "execution_count": 103,
   "metadata": {
    "collapsed": false
   },
   "outputs": [
    {
     "data": {
      "text/plain": [
       "count    24521.000000\n",
       "mean         1.190653\n",
       "std          1.601306\n",
       "min          1.000000\n",
       "25%          1.000000\n",
       "50%          1.000000\n",
       "75%          1.000000\n",
       "max         42.000000\n",
       "Name: FEATURE_184, dtype: float64"
      ]
     },
     "execution_count": 103,
     "metadata": {},
     "output_type": "execute_result"
    }
   ],
   "source": [
    "X['FEATURE_184'].describe()"
   ]
  },
  {
   "cell_type": "code",
   "execution_count": 111,
   "metadata": {
    "collapsed": false
   },
   "outputs": [
    {
     "data": {
      "text/plain": [
       "Index(['FEATURE_0', 'FEATURE_1', 'FEATURE_2', 'FEATURE_3', 'FEATURE_4',\n",
       "       'FEATURE_5', 'FEATURE_6', 'FEATURE_7', 'FEATURE_8', 'FEATURE_9',\n",
       "       ...\n",
       "       'FEATURE_250', 'FEATURE_251', 'FEATURE_252', 'FEATURE_253',\n",
       "       'FEATURE_254', 'FEATURE_255', 'FEATURE_256', 'FEATURE_257',\n",
       "       'FEATURE_258', 'FEATURE_259'],\n",
       "      dtype='object', length=260)"
      ]
     },
     "execution_count": 111,
     "metadata": {},
     "output_type": "execute_result"
    }
   ],
   "source": [
    "corr_map['FEATURE_0'].index"
   ]
  },
  {
   "cell_type": "code",
   "execution_count": 112,
   "metadata": {
    "collapsed": true
   },
   "outputs": [],
   "source": [
    "a = set([0, 1, 2])"
   ]
  },
  {
   "cell_type": "code",
   "execution_count": 564,
   "metadata": {
    "collapsed": false,
    "scrolled": false
   },
   "outputs": [
    {
     "name": "stdout",
     "output_type": "stream",
     "text": [
      "FEATURE_79 0.9915695071815563 ['FEATURE_233']\n",
      "FEATURE_150 0.9971648684299642 ['FEATURE_153']\n",
      "FEATURE_153 0.9971648684299642 ['FEATURE_150']\n",
      "FEATURE_182 0.9988025056079026 ['FEATURE_186']\n",
      "FEATURE_184 1.0 ['FEATURE_200']\n",
      "FEATURE_186 0.9988025056079026 ['FEATURE_182']\n",
      "FEATURE_200 1.0 ['FEATURE_184']\n",
      "FEATURE_233 0.9915695071815563 ['FEATURE_79']\n",
      "FEATURE_241 0.9999984685438301 ['FEATURE_245']\n",
      "FEATURE_245 0.9999984685438301 ['FEATURE_241']\n"
     ]
    },
    {
     "name": "stderr",
     "output_type": "stream",
     "text": [
      "/Users/ocksumoron/anaconda/envs/py36/lib/python3.6/site-packages/networkx/drawing/nx_pylab.py:126: MatplotlibDeprecationWarning: pyplot.hold is deprecated.\n",
      "    Future behavior will be consistent with the long-time default:\n",
      "    plot commands add elements without first clearing the\n",
      "    Axes and/or Figure.\n",
      "  b = plt.ishold()\n",
      "/Users/ocksumoron/anaconda/envs/py36/lib/python3.6/site-packages/networkx/drawing/nx_pylab.py:138: MatplotlibDeprecationWarning: pyplot.hold is deprecated.\n",
      "    Future behavior will be consistent with the long-time default:\n",
      "    plot commands add elements without first clearing the\n",
      "    Axes and/or Figure.\n",
      "  plt.hold(b)\n",
      "/Users/ocksumoron/anaconda/envs/py36/lib/python3.6/site-packages/matplotlib/__init__.py:917: UserWarning: axes.hold is deprecated. Please remove it from your matplotlibrc and/or style files.\n",
      "  warnings.warn(self.msg_depr_set % key)\n",
      "/Users/ocksumoron/anaconda/envs/py36/lib/python3.6/site-packages/matplotlib/rcsetup.py:152: UserWarning: axes.hold is deprecated, will be removed in 3.0\n",
      "  warnings.warn(\"axes.hold is deprecated, will be removed in 3.0\")\n"
     ]
    },
    {
     "data": {
      "image/png": "[encoded data removed]",
      "text/plain": [
       "<matplotlib.figure.Figure at 0x133d0f588>"
      ]
     },
     "metadata": {},
     "output_type": "display_data"
    }
   ],
   "source": [
    "g = nx.Graph()\n",
    "cor_margin = 0.99\n",
    "for feature in features:\n",
    "    if sum(corr_map[feature] > cor_margin) > 1:\n",
    "        indexes = set(corr_map[feature][corr_map[feature] > cor_margin].index)\n",
    "        indexes.remove(feature)\n",
    "        print(feature, corr_map[feature][list(indexes)[0]], list(indexes))\n",
    "        for cor_feature in indexes:\n",
    "            g.add_edge(feature, cor_feature)\n",
    "nx.draw(g)"
   ]
  },
  {
   "cell_type": "code",
   "execution_count": 474,
   "metadata": {
    "collapsed": false
   },
   "outputs": [
    {
     "data": {
      "text/plain": [
       "83"
      ]
     },
     "execution_count": 474,
     "metadata": {},
     "output_type": "execute_result"
    }
   ],
   "source": [
    "len(g.nodes())"
   ]
  },
  {
   "cell_type": "code",
   "execution_count": null,
   "metadata": {
    "collapsed": true
   },
   "outputs": [],
   "source": []
  },
  {
   "cell_type": "code",
   "execution_count": 138,
   "metadata": {
    "collapsed": false
   },
   "outputs": [
    {
     "data": {
      "text/plain": [
       "83"
      ]
     },
     "execution_count": 138,
     "metadata": {},
     "output_type": "execute_result"
    }
   ],
   "source": [
    "len(g.nodes())"
   ]
  },
  {
   "cell_type": "code",
   "execution_count": 83,
   "metadata": {
    "collapsed": false,
    "scrolled": true
   },
   "outputs": [
    {
     "data": {
      "text/plain": [
       "Index(['FEATURE_8', 'FEATURE_12', 'FEATURE_71', 'FEATURE_72', 'FEATURE_73',\n",
       "       'FEATURE_123', 'FEATURE_124', 'FEATURE_125', 'FEATURE_126',\n",
       "       'FEATURE_127', 'FEATURE_128', 'FEATURE_129', 'FEATURE_130',\n",
       "       'FEATURE_131', 'FEATURE_132', 'FEATURE_133', 'FEATURE_134',\n",
       "       'FEATURE_135', 'FEATURE_136', 'FEATURE_137', 'FEATURE_138',\n",
       "       'FEATURE_149', 'FEATURE_150', 'FEATURE_151', 'FEATURE_152',\n",
       "       'FEATURE_153', 'FEATURE_162', 'FEATURE_173', 'FEATURE_174',\n",
       "       'FEATURE_175', 'FEATURE_181', 'FEATURE_183', 'FEATURE_187',\n",
       "       'FEATURE_188', 'FEATURE_189', 'FEATURE_190', 'FEATURE_191',\n",
       "       'FEATURE_192', 'FEATURE_193', 'FEATURE_194', 'FEATURE_195',\n",
       "       'FEATURE_196', 'FEATURE_203', 'FEATURE_204', 'FEATURE_205',\n",
       "       'FEATURE_206', 'FEATURE_207', 'FEATURE_208', 'FEATURE_209',\n",
       "       'FEATURE_210', 'FEATURE_211', 'FEATURE_212', 'FEATURE_213'],\n",
       "      dtype='object')"
      ]
     },
     "execution_count": 83,
     "metadata": {},
     "output_type": "execute_result"
    }
   ],
   "source": [
    "features[X.isnull().sum() > 0]"
   ]
  },
  {
   "cell_type": "code",
   "execution_count": 39,
   "metadata": {
    "collapsed": false
   },
   "outputs": [
    {
     "name": "stderr",
     "output_type": "stream",
     "text": [
      "/Users/ocksumoron/anaconda/envs/py36/lib/python3.6/site-packages/pandas/core/frame.py:2852: SettingWithCopyWarning: \n",
      "A value is trying to be set on a copy of a slice from a DataFrame\n",
      "\n",
      "See the caveats in the documentation: http://pandas.pydata.org/pandas-docs/stable/indexing.html#indexing-view-versus-copy\n",
      "  downcast=downcast, **kwargs)\n"
     ]
    }
   ],
   "source": [
    "X.fillna(0, inplace=True)"
   ]
  },
  {
   "cell_type": "code",
   "execution_count": 40,
   "metadata": {
    "collapsed": false
   },
   "outputs": [],
   "source": [
    "X_train, X_test, y_train, y_test = train_test_split(X, y, train_size=0.7)"
   ]
  },
  {
   "cell_type": "code",
   "execution_count": 41,
   "metadata": {
    "collapsed": false
   },
   "outputs": [
    {
     "data": {
      "text/plain": [
       "17164"
      ]
     },
     "execution_count": 41,
     "metadata": {},
     "output_type": "execute_result"
    }
   ],
   "source": [
    "len(X_train)"
   ]
  },
  {
   "cell_type": "code",
   "execution_count": 42,
   "metadata": {
    "collapsed": true
   },
   "outputs": [],
   "source": [
    "log_reg = LogisticRegression()"
   ]
  },
  {
   "cell_type": "code",
   "execution_count": 43,
   "metadata": {
    "collapsed": false
   },
   "outputs": [
    {
     "data": {
      "text/plain": [
       "LogisticRegression(C=1.0, class_weight=None, dual=False, fit_intercept=True,\n",
       "          intercept_scaling=1, max_iter=100, multi_class='ovr', n_jobs=1,\n",
       "          penalty='l2', random_state=None, solver='liblinear', tol=0.0001,\n",
       "          verbose=0, warm_start=False)"
      ]
     },
     "execution_count": 43,
     "metadata": {},
     "output_type": "execute_result"
    }
   ],
   "source": [
    "log_reg.fit(X_train, y_train)"
   ]
  },
  {
   "cell_type": "code",
   "execution_count": 44,
   "metadata": {
    "collapsed": false
   },
   "outputs": [
    {
     "data": {
      "text/plain": [
       "5267"
      ]
     },
     "execution_count": 44,
     "metadata": {},
     "output_type": "execute_result"
    }
   ],
   "source": [
    "sum(log_reg.predict(X_test) == y_test)"
   ]
  },
  {
   "cell_type": "code",
   "execution_count": 45,
   "metadata": {
    "collapsed": false
   },
   "outputs": [
    {
     "data": {
      "text/plain": [
       "7357"
      ]
     },
     "execution_count": 45,
     "metadata": {},
     "output_type": "execute_result"
    }
   ],
   "source": [
    "len(y_test)"
   ]
  },
  {
   "cell_type": "code",
   "execution_count": 46,
   "metadata": {
    "collapsed": false
   },
   "outputs": [
    {
     "data": {
      "text/plain": [
       "0.7159168139187169"
      ]
     },
     "execution_count": 46,
     "metadata": {},
     "output_type": "execute_result"
    }
   ],
   "source": [
    "5267 / 7357"
   ]
  },
  {
   "cell_type": "code",
   "execution_count": 47,
   "metadata": {
    "collapsed": false
   },
   "outputs": [
    {
     "data": {
      "text/plain": [
       "12330"
      ]
     },
     "execution_count": 47,
     "metadata": {},
     "output_type": "execute_result"
    }
   ],
   "source": [
    "sum(log_reg.predict(X_train) == y_train)"
   ]
  },
  {
   "cell_type": "code",
   "execution_count": 48,
   "metadata": {
    "collapsed": false
   },
   "outputs": [
    {
     "data": {
      "text/plain": [
       "17164"
      ]
     },
     "execution_count": 48,
     "metadata": {},
     "output_type": "execute_result"
    }
   ],
   "source": [
    "len(y_train)"
   ]
  },
  {
   "cell_type": "code",
   "execution_count": 52,
   "metadata": {
    "collapsed": false
   },
   "outputs": [
    {
     "data": {
      "text/plain": [
       "0.40455234669220097"
      ]
     },
     "execution_count": 52,
     "metadata": {},
     "output_type": "execute_result"
    }
   ],
   "source": [
    "f1_score(y_train, log_reg.predict(X_train), average='macro')"
   ]
  },
  {
   "cell_type": "code",
   "execution_count": 64,
   "metadata": {
    "collapsed": false
   },
   "outputs": [
    {
     "data": {
      "text/plain": [
       "5220"
      ]
     },
     "execution_count": 64,
     "metadata": {},
     "output_type": "execute_result"
    }
   ],
   "source": [
    "sum(y_test == 0)"
   ]
  },
  {
   "cell_type": "code",
   "execution_count": 60,
   "metadata": {
    "collapsed": false
   },
   "outputs": [
    {
     "data": {
      "text/plain": [
       "207"
      ]
     },
     "execution_count": 60,
     "metadata": {},
     "output_type": "execute_result"
    }
   ],
   "source": [
    "sum(log_reg.predict(X_test) == 2)"
   ]
  },
  {
   "cell_type": "code",
   "execution_count": 58,
   "metadata": {
    "collapsed": false
   },
   "outputs": [
    {
     "data": {
      "text/plain": [
       "7357"
      ]
     },
     "execution_count": 58,
     "metadata": {},
     "output_type": "execute_result"
    }
   ],
   "source": [
    "len(y_test)"
   ]
  },
  {
   "cell_type": "code",
   "execution_count": 74,
   "metadata": {
    "collapsed": false
   },
   "outputs": [
    {
     "data": {
      "text/plain": [
       "array([  0,   1,   2,   3,   4,   5,   6,   7,   8,   9,  10,  11,  12,\n",
       "        13,  14,  15,  16,  17,  18,  19,  20,  21,  22,  23,  24,  25,\n",
       "        26,  27,  28,  29,  30,  31,  32,  33,  34,  35,  36,  37,  38,\n",
       "        39,  40,  41,  42,  43,  44,  45,  46,  47,  48,  49,  50,  51,\n",
       "        52,  53,  54,  55,  56,  57,  58,  59,  60,  61,  62,  63,  64,\n",
       "        65,  66,  67,  68,  69,  70,  71,  72,  73,  74,  75,  76,  77,\n",
       "        78,  79,  80,  81,  82,  83,  84,  85,  86,  87,  88,  89,  90,\n",
       "        91,  92,  93,  94,  95,  96,  97,  98,  99, 100, 101, 102, 103,\n",
       "       104, 105, 106, 107, 108, 109, 110, 111, 112, 113, 114, 115, 116,\n",
       "       117, 118, 119, 120, 121, 122, 123, 124, 125, 126, 127, 128, 129,\n",
       "       130, 131, 132, 133, 134, 135, 136, 137, 138, 139, 140, 141, 142,\n",
       "       143, 144, 145, 146, 147, 148, 149, 150, 151, 152, 153, 154, 155,\n",
       "       156, 157, 158, 159, 160, 161, 162, 163, 164, 165, 166, 167, 168,\n",
       "       169, 170, 171, 172, 173, 174, 175, 176, 177, 178, 179, 180, 181,\n",
       "       182, 183, 184, 185, 186, 187, 188, 189, 190, 191, 192, 193, 194,\n",
       "       195, 196, 197, 198, 199, 200, 201, 202, 203, 204, 205, 206, 207,\n",
       "       208, 209, 210, 211, 212, 213, 214, 215, 216, 217, 218, 219, 220,\n",
       "       221, 222, 223, 224, 225, 226, 227, 228, 229, 230, 231, 232, 233,\n",
       "       234, 235, 236, 237, 238, 239, 240, 241, 242, 243, 244, 245, 246,\n",
       "       247, 248, 249, 250, 251, 252, 253, 254, 255, 256, 257, 258, 259])"
      ]
     },
     "execution_count": 74,
     "metadata": {},
     "output_type": "execute_result"
    }
   ],
   "source": [
    "np.arange(len(log_reg.coef_[0]))"
   ]
  },
  {
   "cell_type": "code",
   "execution_count": 72,
   "metadata": {
    "collapsed": false,
    "scrolled": true
   },
   "outputs": [
    {
     "data": {
      "text/plain": [
       "array([[ 3.01319267e-03,  1.88278694e-03, -2.03977200e-03,\n",
       "         0.00000000e+00, -5.07190330e-05,  1.17221825e-04,\n",
       "        -3.25115816e-04,  5.85388068e-05,  1.70436539e-05,\n",
       "        -9.34873233e-04, -2.20152248e-03, -2.11240877e-03,\n",
       "        -4.09389456e-06,  4.72374163e-03, -2.22276746e-02,\n",
       "        -2.54056456e-03, -4.51146432e-03,  4.22420171e-04,\n",
       "         1.84759651e-03,  2.09047497e-03,  1.91543013e-03,\n",
       "         4.01793324e-04,  5.37109313e-04,  3.48738778e-05,\n",
       "        -1.08214057e-03, -3.43468290e-04, -8.26578384e-04,\n",
       "         1.36272646e-04,  7.27310098e-05,  2.32346194e-04,\n",
       "         5.15538697e-05,  1.36769214e-03, -3.49783213e-04,\n",
       "         2.69736559e-04,  2.16802861e-04, -1.02050896e-04,\n",
       "        -1.12027266e-04, -2.20692716e-05,  9.70019849e-05,\n",
       "         3.34602625e-05, -1.77714865e-06, -4.17508930e-05,\n",
       "         1.65162880e-04,  1.89946967e-04,  7.52569383e-05,\n",
       "         2.62787954e-04,  1.95383826e-04, -9.20816871e-05,\n",
       "        -3.03622853e-04, -2.41683427e-04, -1.26797277e-04,\n",
       "        -2.60325784e-04, -1.99934764e-04,  9.57135866e-05,\n",
       "         2.59476476e-04,  1.93711951e-04,  6.42123321e-05,\n",
       "        -3.43587290e-04, -2.07836408e-04, -3.88394682e-06,\n",
       "         1.11056372e-04,  2.83449958e-04,  2.40255805e-04,\n",
       "         2.47785086e-04,  1.76357674e-04,  1.50712218e-04,\n",
       "        -1.63476000e-04, -1.33898490e-04,  3.00531644e-04,\n",
       "         4.33012522e-02,  1.27385576e-02, -2.07572873e-04,\n",
       "         1.24848131e-03,  2.24368033e-05, -6.49199194e-03,\n",
       "         8.13218901e-03,  8.09628138e-03, -9.42762398e-04,\n",
       "        -1.30000744e-04, -1.09442775e-04,  4.26722142e-03,\n",
       "        -3.84449350e-04, -8.33021849e-03, -3.10756297e-04,\n",
       "        -5.43091903e-04, -6.09865583e-03, -6.04433283e-03,\n",
       "         1.57858528e-03,  3.32552349e-03,  2.39493154e-03,\n",
       "        -7.46187785e-05, -1.85293842e-04, -1.54137482e-04,\n",
       "         7.29930145e-06,  1.43556947e-04,  2.38570533e-03,\n",
       "        -2.53995615e-03, -1.36328818e-02,  1.29989189e-02,\n",
       "         7.94294787e-03,  9.55449654e-05, -5.96856290e-04,\n",
       "         2.77711828e-03,  3.14251984e-04,  1.04815687e-04,\n",
       "        -1.78489857e-03,  6.72615993e-03,  9.05907579e-04,\n",
       "        -6.50154201e-03,  4.83885483e-03,  8.28362442e-03,\n",
       "         4.58138926e-03,  4.42651805e-03,  2.15418181e-03,\n",
       "        -7.64800872e-03,  3.44393197e-03, -2.34828982e-03,\n",
       "         1.60767989e-03,  1.30846321e-02, -8.43734555e-03,\n",
       "        -7.98663831e-03, -1.63323526e-03, -5.55464098e-03,\n",
       "        -8.19263834e-03,  3.26623187e-04, -2.55688571e-03,\n",
       "         2.88350890e-03, -1.41292859e-03,  4.42532680e-04,\n",
       "        -8.65797428e-04, -1.22042108e-03, -1.22215844e-02,\n",
       "        -4.95896044e-04, -1.94785094e-03,  1.45195489e-03,\n",
       "        -2.06417080e-03, -2.67793376e-05, -1.85668669e-04,\n",
       "        -2.97503835e-04, -1.02969505e-04, -4.32475499e-04,\n",
       "        -5.72773605e-04,  3.00389143e-03, -2.79939511e-03,\n",
       "         0.00000000e+00, -1.86819603e-03,  7.04782354e-03,\n",
       "         3.13246093e-04,  1.66693041e-02,  9.78077953e-03,\n",
       "         1.56251466e-02, -2.63479506e-02, -1.23540520e-02,\n",
       "        -1.15245253e-02,  4.01347492e-02, -2.75564534e-02,\n",
       "        -4.75088279e-03, -4.41755425e-03,  4.92167209e-03,\n",
       "        -1.29613054e-04,  2.63052669e-05, -3.37788030e-07,\n",
       "         3.49024852e-05,  2.53639287e-04, -1.83848887e-04,\n",
       "        -5.22364868e-03, -1.53235548e-03,  1.09279908e-02,\n",
       "        -6.66756996e-04, -6.16769898e-03,  4.92925625e-03,\n",
       "        -2.26121719e-03,  6.36007469e-03, -1.31038475e-03,\n",
       "         6.61695138e-03,  8.85263088e-03,  6.29725249e-04,\n",
       "        -4.86050714e-05, -7.54490126e-04,  1.41761368e-02,\n",
       "        -6.55110398e-03,  1.64672427e-05, -7.55097337e-05,\n",
       "         2.53472905e-04,  2.07869563e-03, -8.37179377e-05,\n",
       "         1.29787665e-04,  1.07119657e-05, -3.09091742e-05,\n",
       "        -6.19992126e-05, -9.34546964e-05, -2.69749461e-04,\n",
       "        -1.29414683e-05, -4.10948256e-05, -2.52395796e-04,\n",
       "        -1.16323346e-03,  8.94857407e-04, -1.28358661e-02,\n",
       "         2.23417688e-03, -2.31831358e-03,  2.92050198e-03,\n",
       "        -3.46292758e-03, -1.71288515e-03, -7.32417237e-02,\n",
       "        -6.87413621e-03, -3.57047205e-02, -6.76671707e-02,\n",
       "        -5.80481032e-03, -3.39421369e-02,  3.44236588e-03,\n",
       "         1.86392514e-03,  1.72300020e-03,  8.44871466e-03,\n",
       "         7.96556012e-03,  8.87515906e-03, -2.87712458e-04,\n",
       "        -1.18068267e-04, -2.79913495e-05, -3.50340095e-03,\n",
       "         8.82143185e-03,  9.42423022e-03, -5.38622634e-04,\n",
       "         1.29960421e-04,  1.11926113e-05, -6.65556689e-04,\n",
       "         2.36736187e-04,  4.99675560e-04, -8.86560575e-04,\n",
       "         2.46091656e-04,  3.02110727e-04, -3.43581208e-04,\n",
       "        -1.65599571e-04,  2.77812792e-04,  3.65359652e-05,\n",
       "         1.48765826e-03,  1.97880429e-04,  5.60600583e-04,\n",
       "        -7.42453364e-04, -4.52625874e-04,  3.64907175e-04,\n",
       "         1.91636565e-04, -2.32699691e-05, -1.43498753e-03,\n",
       "        -2.74366447e-03, -5.58306258e-04, -8.62368025e-04,\n",
       "        -4.88305769e-04, -2.27068731e-03, -1.83370803e-03,\n",
       "         0.00000000e+00, -1.02314800e-04,  1.86398087e-03,\n",
       "         2.45081910e-04,  3.60239094e-04, -6.79466196e-02,\n",
       "        -3.52699186e-02,  0.00000000e+00, -4.87212640e-04,\n",
       "         1.01486958e-02,  5.12971091e-03],\n",
       "       [-1.83432833e-03,  3.96257445e-03,  2.45817340e-03,\n",
       "         0.00000000e+00, -1.20845351e-03, -1.02409709e-04,\n",
       "         2.56011958e-04, -1.13116013e-04, -1.06716251e-05,\n",
       "         7.76492642e-04,  1.07772929e-03,  2.06677538e-03,\n",
       "        -7.69145188e-06, -3.68085785e-03,  1.51960677e-02,\n",
       "         1.35322784e-03,  4.72822575e-03, -2.85668615e-04,\n",
       "        -4.84044912e-04, -1.84825716e-03, -2.64169015e-03,\n",
       "        -2.45674299e-04, -2.39423133e-04,  1.00776951e-04,\n",
       "         7.35121582e-04,  6.56789807e-04, -7.74886598e-04,\n",
       "         1.25506979e-03, -4.52768287e-05, -1.51282680e-03,\n",
       "        -4.11699164e-03, -1.23704998e-03,  4.14745378e-04,\n",
       "        -3.11030882e-04, -3.38431844e-04, -5.41126555e-06,\n",
       "         2.48707622e-04, -4.14533115e-05, -9.06478775e-05,\n",
       "         1.18683803e-06, -2.27507066e-06,  5.40883712e-05,\n",
       "        -2.18167364e-04, -2.06348727e-04, -1.26073392e-04,\n",
       "        -3.06818262e-04, -3.13809872e-04, -2.50781172e-05,\n",
       "         3.39691139e-04,  7.04605901e-05,  2.43655396e-05,\n",
       "         3.07208338e-04,  3.18720822e-04,  1.35792238e-05,\n",
       "        -3.18110806e-04, -5.31493876e-05,  7.97955960e-06,\n",
       "         3.69472152e-04,  1.78276666e-04, -5.34753378e-05,\n",
       "        -1.12460464e-04, -2.33554065e-04, -3.09038318e-04,\n",
       "        -2.66888249e-04, -1.48874057e-04, -2.98835185e-05,\n",
       "         3.10613025e-05,  1.08635828e-04, -2.08219332e-04,\n",
       "        -7.96896567e-03, -9.26159785e-03, -3.59837389e-04,\n",
       "        -8.89913520e-04,  1.18888783e-04,  3.90274832e-04,\n",
       "        -1.53451667e-03, -8.64641884e-04,  7.21044253e-04,\n",
       "         2.15691953e-04,  2.14666443e-04, -4.47445313e-03,\n",
       "         5.01645112e-04,  2.34460230e-03,  4.18056739e-05,\n",
       "         6.20536518e-04,  9.17362951e-03,  1.00463110e-02,\n",
       "         5.09986586e-05, -1.01008334e-03, -1.99988274e-03,\n",
       "         1.30337696e-04,  1.59798846e-04,  1.73780491e-04,\n",
       "         5.49080749e-06, -7.71955101e-05, -7.61579361e-03,\n",
       "        -1.33069167e-02, -2.93886201e-03, -2.76441286e-02,\n",
       "        -1.85765864e-02,  4.47417291e-04,  5.20773404e-04,\n",
       "        -2.32129352e-03, -2.81407059e-04, -1.25027749e-03,\n",
       "        -4.78193430e-03, -1.90466602e-02, -2.86002648e-02,\n",
       "        -3.49980845e-04, -1.41520276e-02, -9.20390399e-03,\n",
       "        -4.26561919e-03,  2.64017379e-04, -2.54059235e-03,\n",
       "         8.62638637e-03, -2.61856496e-03,  2.45416320e-04,\n",
       "         8.24760271e-04, -1.22876744e-02,  5.49047840e-03,\n",
       "         8.11577036e-03,  3.40502283e-03,  4.17104141e-03,\n",
       "         5.04372032e-03, -4.40971164e-04,  2.12248249e-03,\n",
       "        -2.56345366e-03,  7.48452644e-04, -2.61857509e-04,\n",
       "         6.51118626e-04,  1.35352731e-03,  6.07080736e-03,\n",
       "         1.75038325e-04,  2.20071847e-03, -2.02568014e-03,\n",
       "         1.09373263e-03,  3.87597388e-04, -2.95719362e-04,\n",
       "         5.08797006e-05,  1.25903583e-04,  2.61970594e-04,\n",
       "         5.66059787e-04, -2.01604608e-03,  2.66295379e-03,\n",
       "         0.00000000e+00,  2.75661545e-03, -7.69069431e-03,\n",
       "        -3.19179972e-04, -7.97329695e-03,  4.47308622e-04,\n",
       "        -1.97289364e-02,  2.03269680e-02,  9.48411160e-03,\n",
       "         1.40188774e-02, -2.23262284e-02,  1.37650379e-02,\n",
       "         3.13781484e-03,  2.92614318e-03, -1.43191442e-03,\n",
       "         1.88116779e-04, -4.19744957e-05, -1.13335553e-04,\n",
       "        -1.95938521e-05, -1.25217831e-04,  1.41502221e-04,\n",
       "         2.59073475e-03,  3.65413716e-03, -1.37738318e-02,\n",
       "         7.89057145e-04,  2.74215047e-03,  2.08079513e-02,\n",
       "         1.16665085e-03, -4.75279526e-03,  7.40518869e-04,\n",
       "        -3.76502620e-03, -5.46683535e-03, -3.86429557e-04,\n",
       "         3.06169039e-05,  6.52317047e-04, -9.21466808e-03,\n",
       "        -3.38213651e-03, -5.62223379e-06,  1.53232839e-04,\n",
       "        -1.45973346e-04, -2.96616609e-03,  9.63944941e-05,\n",
       "        -1.72130270e-04, -2.67502511e-05, -3.63765179e-05,\n",
       "        -4.81478923e-05,  1.08320466e-04,  1.50929145e-04,\n",
       "         4.00357318e-05,  4.45085003e-05, -3.84325767e-04,\n",
       "         1.13256920e-03, -1.05773426e-03,  1.73421028e-03,\n",
       "        -3.12692274e-04, -1.38548662e-03, -1.12517524e-03,\n",
       "        -2.78556085e-03, -1.16109410e-04,  4.89901059e-02,\n",
       "        -2.72157763e-03,  1.92998135e-02,  4.52078210e-02,\n",
       "        -3.12672809e-03,  1.80381855e-02, -2.58952623e-03,\n",
       "        -4.79077764e-04,  1.79653554e-04, -5.35433931e-03,\n",
       "        -9.48853060e-04, -1.97237555e-03, -2.01817436e-04,\n",
       "         2.30760391e-04,  2.68538454e-05, -1.56867834e-03,\n",
       "        -1.33740644e-02, -1.46918178e-02,  7.53557974e-04,\n",
       "        -1.89190473e-04, -5.95427710e-06, -1.73198455e-03,\n",
       "        -1.46494387e-04,  6.45467692e-04,  2.34037439e-03,\n",
       "        -1.42886326e-03, -1.42492391e-03, -1.99954572e-05,\n",
       "         3.02263535e-04, -3.29426536e-04, -5.48045099e-06,\n",
       "        -5.34557197e-04,  2.59079577e-05, -6.01488410e-04,\n",
       "         5.18752486e-04,  4.32933942e-04, -1.45520610e-04,\n",
       "        -1.33674400e-04,  3.45802494e-05,  1.27213913e-04,\n",
       "         1.49695232e-03,  4.16636997e-04,  8.51020931e-04,\n",
       "        -9.68632456e-04,  1.13098363e-03,  1.43291647e-03,\n",
       "         0.00000000e+00, -1.11490667e-04, -5.92004875e-04,\n",
       "        -4.06429255e-05, -3.37097962e-04,  4.77599722e-02,\n",
       "         1.73388084e-02,  0.00000000e+00, -3.38375603e-03,\n",
       "        -1.48326099e-02, -8.30394888e-03],\n",
       "       [-1.56711136e-02, -1.12337832e-02, -2.89893867e-03,\n",
       "         0.00000000e+00,  5.82876615e-03, -8.52043563e-06,\n",
       "         7.52246260e-05,  4.30496975e-04, -8.85549393e-05,\n",
       "         3.42385901e-03,  5.10830372e-03,  1.59317157e-03,\n",
       "         6.11418453e-06, -1.12881050e-02,  2.70324590e-02,\n",
       "         6.65654430e-03,  1.46153896e-03,  7.95562283e-04,\n",
       "        -2.06953142e-03,  2.72082301e-03, -3.57803903e-03,\n",
       "        -7.50321155e-06, -1.17184117e-03,  9.77915908e-04,\n",
       "         1.08024931e-03, -2.72402345e-03,  3.06949445e-03,\n",
       "        -7.58076311e-03, -2.03352082e-03,  4.05506644e-03,\n",
       "         3.67810487e-03, -3.02570849e-03, -2.39997833e-03,\n",
       "        -6.35335484e-05,  1.70539242e-04,  4.70766224e-04,\n",
       "        -4.99559817e-04,  4.19751249e-04, -2.08551256e-04,\n",
       "        -2.50983903e-04,  1.52379572e-04, -4.41103742e-05,\n",
       "         4.62808518e-05, -1.27979437e-03,  6.57838660e-04,\n",
       "         9.16064546e-05,  1.76376711e-04,  4.92355324e-04,\n",
       "        -1.63821311e-05,  9.60009368e-04,  4.25091235e-04,\n",
       "        -1.12263118e-04, -1.85654929e-04, -4.40654574e-04,\n",
       "         1.58539057e-04, -7.42852609e-04, -2.35292827e-04,\n",
       "        -1.75931975e-04,  2.74159192e-05,  4.81329407e-05,\n",
       "         1.27923398e-04, -7.00152950e-04,  2.27834650e-04,\n",
       "         7.23729332e-06, -1.79909045e-04, -6.82137085e-04,\n",
       "         4.96785336e-04,  1.13085181e-04, -5.29818718e-04,\n",
       "        -9.17610082e-02, -4.14921186e-02,  1.13258156e-03,\n",
       "        -1.17253176e-03, -5.13668683e-05,  6.07118088e-03,\n",
       "         9.70846764e-03, -1.69317217e-02,  1.86725910e-03,\n",
       "        -5.57389296e-04, -6.03388023e-04, -1.05003884e-02,\n",
       "        -1.43828977e-04,  8.64527285e-03,  4.71778435e-04,\n",
       "         3.14657857e-04, -9.39788251e-03, -8.28584988e-03,\n",
       "        -1.19940775e-03, -6.06669167e-03,  1.14741338e-03,\n",
       "        -3.09970238e-04,  5.17010461e-04, -2.72859248e-05,\n",
       "        -2.56974226e-04, -5.06594135e-04,  2.23362629e-03,\n",
       "         1.08207814e-02,  1.75787968e-02,  5.12017096e-03,\n",
       "        -2.05639519e-03, -7.26540582e-03,  4.22790028e-03,\n",
       "        -4.09488481e-04, -6.73167119e-04,  1.25892536e-02,\n",
       "         6.16627097e-03,  1.23575681e-02,  2.21081561e-02,\n",
       "        -8.57917274e-03, -4.48298965e-03, -5.32389099e-03,\n",
       "        -9.19420340e-03, -1.33210702e-02,  7.36335872e-04,\n",
       "        -3.19315410e-02, -6.06154784e-03,  1.85388375e-02,\n",
       "        -4.53163120e-03, -2.62702259e-04,  1.44112823e-02,\n",
       "        -1.64852848e-03, -6.38803470e-03,  8.28342479e-05,\n",
       "         2.84954496e-03, -7.23065680e-04,  6.38181919e-03,\n",
       "        -7.10488487e-03,  2.03303514e-03, -1.41120076e-03,\n",
       "         1.52005248e-03,  8.85898419e-04,  5.79784036e-03,\n",
       "         2.53723004e-03, -2.03878921e-03,  4.57601925e-03,\n",
       "         1.95621969e-03, -1.42077737e-03,  1.90031977e-03,\n",
       "         1.06476461e-03, -2.52800620e-04,  5.26011995e-04,\n",
       "         6.44937555e-04, -1.24490826e-02,  2.36868815e-03,\n",
       "         0.00000000e+00, -1.14603834e-02,  5.10608654e-03,\n",
       "        -6.20405603e-04, -2.27925140e-02, -4.27641232e-02,\n",
       "         1.31052462e-02,  1.82698642e-02,  6.72580469e-03,\n",
       "        -2.39513332e-02, -6.13098639e-02,  6.06282080e-02,\n",
       "         5.73851660e-03,  6.33536933e-03,  2.74266605e-03,\n",
       "        -1.73668697e-04,  1.91322818e-05,  5.76275181e-04,\n",
       "        -4.51934260e-05, -4.24319333e-04,  1.70574129e-04,\n",
       "        -3.91754172e-03, -8.51915667e-03,  1.21649759e-03,\n",
       "        -2.54908503e-04,  1.55143572e-02,  4.15537904e-03,\n",
       "         1.25239862e-03, -6.48440659e-04,  5.92890349e-03,\n",
       "        -1.15945124e-02, -1.81718482e-02, -1.49839526e-03,\n",
       "         1.43043805e-04,  2.65494388e-04, -1.32904869e-02,\n",
       "         1.24852288e-02, -3.45106178e-05, -1.90439730e-04,\n",
       "        -5.58785935e-04, -2.34677699e-04, -2.09042453e-04,\n",
       "         2.79193434e-05,  3.91746956e-05,  1.37598037e-04,\n",
       "         4.67621298e-04,  6.46174616e-06,  4.75582717e-04,\n",
       "        -1.44763318e-05, -1.95120758e-05,  1.45198716e-03,\n",
       "         3.89071173e-04, -3.51667337e-04,  4.24740856e-03,\n",
       "        -6.74480717e-03,  3.70877791e-03, -4.09303090e-03,\n",
       "         6.80476623e-03,  8.95726186e-04,  7.17258660e-02,\n",
       "         3.29794961e-02,  4.70854905e-02,  6.59778311e-02,\n",
       "         3.10529890e-02,  4.53807961e-02,  9.09354503e-03,\n",
       "         5.89185547e-03,  6.16528957e-03,  4.39880265e-03,\n",
       "        -9.75499787e-03, -5.30151722e-03,  2.67762609e-03,\n",
       "        -1.35862837e-04,  1.96868736e-05,  1.08983979e-02,\n",
       "         4.88594909e-03,  7.81750284e-03,  3.01194767e-04,\n",
       "         2.96329793e-04, -2.69177127e-05,  1.81324244e-03,\n",
       "        -3.88387622e-04, -5.91883516e-03, -5.71134540e-03,\n",
       "         4.36707598e-03, -8.67580791e-04,  1.54738195e-03,\n",
       "        -7.84844467e-04,  3.79823198e-05, -8.17526636e-06,\n",
       "        -5.24240789e-03, -1.08697268e-03, -1.65355520e-04,\n",
       "         8.94645753e-04,  7.00639861e-04, -2.27441712e-03,\n",
       "        -6.60224520e-04,  6.13528455e-04,  4.82714565e-03,\n",
       "         4.23091893e-03,  1.49834815e-03,  6.14060048e-04,\n",
       "         5.73323929e-03,  4.29102594e-03,  1.49858143e-03,\n",
       "         0.00000000e+00,  1.60099797e-03, -3.95164984e-03,\n",
       "        -1.37775380e-03, -6.67357301e-04,  6.35015687e-02,\n",
       "         5.27613235e-02,  0.00000000e+00,  9.08902771e-03,\n",
       "         4.66513924e-03, -2.51853084e-03]])"
      ]
     },
     "execution_count": 72,
     "metadata": {},
     "output_type": "execute_result"
    }
   ],
   "source": [
    "log_reg.coef_"
   ]
  },
  {
   "cell_type": "code",
   "execution_count": 77,
   "metadata": {
    "collapsed": false
   },
   "outputs": [
    {
     "data": {
      "text/plain": [
       "<matplotlib.collections.PathCollection at 0x1162551d0>"
      ]
     },
     "execution_count": 77,
     "metadata": {},
     "output_type": "execute_result"
    },
    {
     "data": {
      "image/png": "[encoded data removed]",
      "text/plain": [
       "<matplotlib.figure.Figure at 0x1160ea048>"
      ]
     },
     "metadata": {},
     "output_type": "display_data"
    }
   ],
   "source": [
    "plt.scatter(np.arange(len(log_reg.coef_[0])), log_reg.coef_[2])"
   ]
  },
  {
   "cell_type": "code",
   "execution_count": 80,
   "metadata": {
    "collapsed": false,
    "scrolled": false
   },
   "outputs": [
    {
     "data": {
      "image/png": "[encoded data removed]",
      "text/plain": [
       "<matplotlib.figure.Figure at 0x127b9e8d0>"
      ]
     },
     "metadata": {},
     "output_type": "display_data"
    },
    {
     "data": {
      "image/png": "[encoded data removed]",
      "text/plain": [
       "<matplotlib.figure.Figure at 0x115dc7400>"
      ]
     },
     "metadata": {},
     "output_type": "display_data"
    },
    {
     "data": {
      "image/png": "[encoded data removed]",
      "text/plain": [
       "<matplotlib.figure.Figure at 0x123295780>"
      ]
     },
     "metadata": {},
     "output_type": "display_data"
    },
    {
     "data": {
      "image/png": "[encoded data removed]",
      "text/plain": [
       "<matplotlib.figure.Figure at 0x12334a7f0>"
      ]
     },
     "metadata": {},
     "output_type": "display_data"
    },
    {
     "data": {
      "image/png": "[encoded data removed]",
      "text/plain": [
       "<matplotlib.figure.Figure at 0x115dcdeb8>"
      ]
     },
     "metadata": {},
     "output_type": "display_data"
    },
    {
     "data": {
      "image/png": "[encoded data removed]",
      "text/plain": [
       "<matplotlib.figure.Figure at 0x12336c518>"
      ]
     },
     "metadata": {},
     "output_type": "display_data"
    },
    {
     "data": {
      "image/png": "[encoded data removed]",
      "text/plain": [
       "<matplotlib.figure.Figure at 0x1160e5a20>"
      ]
     },
     "metadata": {},
     "output_type": "display_data"
    },
    {
     "data": {
      "image/png": "[encoded data removed]",
      "text/plain": [
       "<matplotlib.figure.Figure at 0x123409ba8>"
      ]
     },
     "metadata": {},
     "output_type": "display_data"
    },
    {
     "data": {
      "image/png": "[encoded data removed]",
      "text/plain": [
       "<matplotlib.figure.Figure at 0x115edbf60>"
      ]
     },
     "metadata": {},
     "output_type": "display_data"
    },
    {
     "data": {
      "image/png": "[encoded data removed]",
      "text/plain": [
       "<matplotlib.figure.Figure at 0x115e567f0>"
      ]
     },
     "metadata": {},
     "output_type": "display_data"
    }
   ],
   "source": [
    "for feature in features[:10]:\n",
    "    plt.hist(X_train[feature])\n",
    "    plt.show()"
   ]
  },
  {
   "cell_type": "code",
   "execution_count": 476,
   "metadata": {
    "collapsed": true
   },
   "outputs": [],
   "source": [
    "from xgboost import XGBClassifier"
   ]
  },
  {
   "cell_type": "code",
   "execution_count": 477,
   "metadata": {
    "collapsed": true
   },
   "outputs": [],
   "source": [
    "xgb_cl = XGBClassifier()"
   ]
  },
  {
   "cell_type": "code",
   "execution_count": 478,
   "metadata": {
    "collapsed": false
   },
   "outputs": [
    {
     "data": {
      "text/plain": [
       "XGBClassifier(base_score=0.5, colsample_bylevel=1, colsample_bytree=1,\n",
       "       gamma=0, learning_rate=0.1, max_delta_step=0, max_depth=3,\n",
       "       min_child_weight=1, missing=None, n_estimators=100, nthread=-1,\n",
       "       objective='multi:softprob', reg_alpha=0, reg_lambda=1,\n",
       "       scale_pos_weight=1, seed=0, silent=True, subsample=1)"
      ]
     },
     "execution_count": 478,
     "metadata": {},
     "output_type": "execute_result"
    }
   ],
   "source": [
    "xgb_cl.fit(X_train, y_train)"
   ]
  },
  {
   "cell_type": "code",
   "execution_count": 479,
   "metadata": {
    "collapsed": false
   },
   "outputs": [
    {
     "name": "stderr",
     "output_type": "stream",
     "text": [
      "/Users/ocksumoron/anaconda/envs/py36/lib/python3.6/site-packages/sklearn/preprocessing/label.py:171: DeprecationWarning: The truth value of an empty array is ambiguous. Returning False, but in future this will result in an error. Use `array.size > 0` to check that an array is not empty.\n",
      "  if diff:\n"
     ]
    }
   ],
   "source": [
    "y_pred = xgb_cl.predict(X_test)"
   ]
  },
  {
   "cell_type": "code",
   "execution_count": 480,
   "metadata": {
    "collapsed": false
   },
   "outputs": [
    {
     "data": {
      "text/plain": [
       "array([0, 2, 0, ..., 0, 0, 0])"
      ]
     },
     "execution_count": 480,
     "metadata": {},
     "output_type": "execute_result"
    }
   ],
   "source": [
    "y_pred"
   ]
  },
  {
   "cell_type": "code",
   "execution_count": 482,
   "metadata": {
    "collapsed": false
   },
   "outputs": [
    {
     "data": {
      "text/plain": [
       "0.4449641680222018"
      ]
     },
     "execution_count": 482,
     "metadata": {},
     "output_type": "execute_result"
    }
   ],
   "source": [
    "f1_score(y_test, y_pred, average='macro')"
   ]
  },
  {
   "cell_type": "code",
   "execution_count": 486,
   "metadata": {
    "collapsed": false
   },
   "outputs": [],
   "source": [
    "good_features = features[xgb_cl.feature_importances_ > 0.01]"
   ]
  },
  {
   "cell_type": "code",
   "execution_count": 489,
   "metadata": {
    "collapsed": false
   },
   "outputs": [],
   "source": [
    "xgb_cl2 = XGBClassifier()"
   ]
  },
  {
   "cell_type": "code",
   "execution_count": 490,
   "metadata": {
    "collapsed": false
   },
   "outputs": [
    {
     "data": {
      "text/plain": [
       "XGBClassifier(base_score=0.5, colsample_bylevel=1, colsample_bytree=1,\n",
       "       gamma=0, learning_rate=0.1, max_delta_step=0, max_depth=3,\n",
       "       min_child_weight=1, missing=None, n_estimators=100, nthread=-1,\n",
       "       objective='multi:softprob', reg_alpha=0, reg_lambda=1,\n",
       "       scale_pos_weight=1, seed=0, silent=True, subsample=1)"
      ]
     },
     "execution_count": 490,
     "metadata": {},
     "output_type": "execute_result"
    }
   ],
   "source": [
    "xgb_cl2.fit(X_train[good_features], y_train)"
   ]
  },
  {
   "cell_type": "code",
   "execution_count": 492,
   "metadata": {
    "collapsed": false
   },
   "outputs": [
    {
     "name": "stderr",
     "output_type": "stream",
     "text": [
      "/Users/ocksumoron/anaconda/envs/py36/lib/python3.6/site-packages/sklearn/preprocessing/label.py:171: DeprecationWarning: The truth value of an empty array is ambiguous. Returning False, but in future this will result in an error. Use `array.size > 0` to check that an array is not empty.\n",
      "  if diff:\n"
     ]
    }
   ],
   "source": [
    "y_pred2 = xgb_cl2.predict(X_test[good_features])"
   ]
  },
  {
   "cell_type": "code",
   "execution_count": 494,
   "metadata": {
    "collapsed": false
   },
   "outputs": [
    {
     "data": {
      "text/plain": [
       "0.42895144243513633"
      ]
     },
     "execution_count": 494,
     "metadata": {},
     "output_type": "execute_result"
    }
   ],
   "source": [
    "f1_score(y_test, y_pred2, average='macro')"
   ]
  },
  {
   "cell_type": "code",
   "execution_count": 501,
   "metadata": {
    "collapsed": false,
    "scrolled": false
   },
   "outputs": [
    {
     "name": "stdout",
     "output_type": "stream",
     "text": [
      "FEATURE_37\n"
     ]
    },
    {
     "data": {
      "image/png": "[encoded data removed]",
      "text/plain": [
       "<matplotlib.figure.Figure at 0x1157407f0>"
      ]
     },
     "metadata": {},
     "output_type": "display_data"
    },
    {
     "name": "stdout",
     "output_type": "stream",
     "text": [
      "FEATURE_55\n"
     ]
    },
    {
     "data": {
      "image/png": "[encoded data removed]",
      "text/plain": [
       "<matplotlib.figure.Figure at 0x115761160>"
      ]
     },
     "metadata": {},
     "output_type": "display_data"
    },
    {
     "name": "stdout",
     "output_type": "stream",
     "text": [
      "FEATURE_78\n"
     ]
    },
    {
     "data": {
      "image/png": "[encoded data removed]",
      "text/plain": [
       "<matplotlib.figure.Figure at 0x125146a90>"
      ]
     },
     "metadata": {},
     "output_type": "display_data"
    },
    {
     "name": "stdout",
     "output_type": "stream",
     "text": [
      "FEATURE_80\n"
     ]
    },
    {
     "data": {
      "image/png": "[encoded data removed]",
      "text/plain": [
       "<matplotlib.figure.Figure at 0x125297e80>"
      ]
     },
     "metadata": {},
     "output_type": "display_data"
    },
    {
     "name": "stdout",
     "output_type": "stream",
     "text": [
      "FEATURE_82\n"
     ]
    },
    {
     "data": {
      "image/png": "[encoded data removed]",
      "text/plain": [
       "<matplotlib.figure.Figure at 0x127b5f5c0>"
      ]
     },
     "metadata": {},
     "output_type": "display_data"
    },
    {
     "name": "stdout",
     "output_type": "stream",
     "text": [
      "FEATURE_93\n"
     ]
    },
    {
     "data": {
      "image/png": "[encoded data removed]",
      "text/plain": [
       "<matplotlib.figure.Figure at 0x12529f6a0>"
      ]
     },
     "metadata": {},
     "output_type": "display_data"
    },
    {
     "name": "stdout",
     "output_type": "stream",
     "text": [
      "FEATURE_121\n"
     ]
    },
    {
     "data": {
      "image/png": "[encoded data removed]",
      "text/plain": [
       "<matplotlib.figure.Figure at 0x10ec797b8>"
      ]
     },
     "metadata": {},
     "output_type": "display_data"
    },
    {
     "name": "stdout",
     "output_type": "stream",
     "text": [
      "FEATURE_122\n"
     ]
    },
    {
     "data": {
      "image/png": "[encoded data removed]",
      "text/plain": [
       "<matplotlib.figure.Figure at 0x1250afef0>"
      ]
     },
     "metadata": {},
     "output_type": "display_data"
    },
    {
     "name": "stdout",
     "output_type": "stream",
     "text": [
      "FEATURE_127\n"
     ]
    },
    {
     "data": {
      "image/png": "[encoded data removed]",
      "text/plain": [
       "<matplotlib.figure.Figure at 0x1250c3940>"
      ]
     },
     "metadata": {},
     "output_type": "display_data"
    },
    {
     "name": "stdout",
     "output_type": "stream",
     "text": [
      "FEATURE_148\n"
     ]
    },
    {
     "data": {
      "image/png": "[encoded data removed]",
      "text/plain": [
       "<matplotlib.figure.Figure at 0x1250ca128>"
      ]
     },
     "metadata": {},
     "output_type": "display_data"
    },
    {
     "name": "stdout",
     "output_type": "stream",
     "text": [
      "FEATURE_151\n"
     ]
    },
    {
     "data": {
      "image/png": "[encoded data removed]",
      "text/plain": [
       "<matplotlib.figure.Figure at 0x10f256b38>"
      ]
     },
     "metadata": {},
     "output_type": "display_data"
    },
    {
     "name": "stdout",
     "output_type": "stream",
     "text": [
      "FEATURE_155\n"
     ]
    },
    {
     "data": {
      "image/png": "[encoded data removed]",
      "text/plain": [
       "<matplotlib.figure.Figure at 0x1252af7b8>"
      ]
     },
     "metadata": {},
     "output_type": "display_data"
    },
    {
     "name": "stdout",
     "output_type": "stream",
     "text": [
      "FEATURE_168\n"
     ]
    },
    {
     "data": {
      "image/png": "[encoded data removed]",
      "text/plain": [
       "<matplotlib.figure.Figure at 0x1158380b8>"
      ]
     },
     "metadata": {},
     "output_type": "display_data"
    },
    {
     "name": "stdout",
     "output_type": "stream",
     "text": [
      "FEATURE_170\n"
     ]
    },
    {
     "data": {
      "image/png": "[encoded data removed]",
      "text/plain": [
       "<matplotlib.figure.Figure at 0x12357bdd8>"
      ]
     },
     "metadata": {},
     "output_type": "display_data"
    },
    {
     "name": "stdout",
     "output_type": "stream",
     "text": [
      "FEATURE_173\n"
     ]
    },
    {
     "data": {
      "image/png": "[encoded data removed]",
      "text/plain": [
       "<matplotlib.figure.Figure at 0x12507ab70>"
      ]
     },
     "metadata": {},
     "output_type": "display_data"
    },
    {
     "name": "stdout",
     "output_type": "stream",
     "text": [
      "FEATURE_175\n"
     ]
    },
    {
     "data": {
      "image/png": "[encoded data removed]",
      "text/plain": [
       "<matplotlib.figure.Figure at 0x10ee3a860>"
      ]
     },
     "metadata": {},
     "output_type": "display_data"
    },
    {
     "name": "stdout",
     "output_type": "stream",
     "text": [
      "FEATURE_182\n"
     ]
    },
    {
     "data": {
      "image/png": "[encoded data removed]",
      "text/plain": [
       "<matplotlib.figure.Figure at 0x127b5f080>"
      ]
     },
     "metadata": {},
     "output_type": "display_data"
    },
    {
     "name": "stdout",
     "output_type": "stream",
     "text": [
      "FEATURE_186\n"
     ]
    },
    {
     "data": {
      "image/png": "[encoded data removed]",
      "text/plain": [
       "<matplotlib.figure.Figure at 0x10ead9400>"
      ]
     },
     "metadata": {},
     "output_type": "display_data"
    },
    {
     "name": "stdout",
     "output_type": "stream",
     "text": [
      "FEATURE_203\n"
     ]
    },
    {
     "data": {
      "image/png": "[encoded data removed]",
      "text/plain": [
       "<matplotlib.figure.Figure at 0x11575f080>"
      ]
     },
     "metadata": {},
     "output_type": "display_data"
    },
    {
     "name": "stdout",
     "output_type": "stream",
     "text": [
      "FEATURE_226\n"
     ]
    },
    {
     "data": {
      "image/png": "[encoded data removed]",
      "text/plain": [
       "<matplotlib.figure.Figure at 0x11602f7f0>"
      ]
     },
     "metadata": {},
     "output_type": "display_data"
    },
    {
     "name": "stdout",
     "output_type": "stream",
     "text": [
      "FEATURE_227\n"
     ]
    },
    {
     "data": {
      "image/png": "[encoded data removed]",
      "text/plain": [
       "<matplotlib.figure.Figure at 0x116255908>"
      ]
     },
     "metadata": {},
     "output_type": "display_data"
    },
    {
     "name": "stdout",
     "output_type": "stream",
     "text": [
      "FEATURE_238\n"
     ]
    },
    {
     "data": {
      "image/png": "[encoded data removed]",
      "text/plain": [
       "<matplotlib.figure.Figure at 0x115b8d780>"
      ]
     },
     "metadata": {},
     "output_type": "display_data"
    },
    {
     "name": "stdout",
     "output_type": "stream",
     "text": [
      "FEATURE_239\n"
     ]
    },
    {
     "data": {
      "image/png": "[encoded data removed]",
      "text/plain": [
       "<matplotlib.figure.Figure at 0x10f256a90>"
      ]
     },
     "metadata": {},
     "output_type": "display_data"
    },
    {
     "name": "stdout",
     "output_type": "stream",
     "text": [
      "FEATURE_240\n"
     ]
    },
    {
     "data": {
      "image/png": "[encoded data removed]",
      "text/plain": [
       "<matplotlib.figure.Figure at 0x127aad630>"
      ]
     },
     "metadata": {},
     "output_type": "display_data"
    },
    {
     "name": "stdout",
     "output_type": "stream",
     "text": [
      "FEATURE_253\n"
     ]
    },
    {
     "data": {
      "image/png": "[encoded data removed]",
      "text/plain": [
       "<matplotlib.figure.Figure at 0x127967a20>"
      ]
     },
     "metadata": {},
     "output_type": "display_data"
    },
    {
     "name": "stdout",
     "output_type": "stream",
     "text": [
      "FEATURE_254\n"
     ]
    },
    {
     "data": {
      "image/png": "[encoded data removed]",
      "text/plain": [
       "<matplotlib.figure.Figure at 0x115a555c0>"
      ]
     },
     "metadata": {},
     "output_type": "display_data"
    },
    {
     "name": "stdout",
     "output_type": "stream",
     "text": [
      "FEATURE_255\n"
     ]
    },
    {
     "data": {
      "image/png": "[encoded data removed]",
      "text/plain": [
       "<matplotlib.figure.Figure at 0x12358fd68>"
      ]
     },
     "metadata": {},
     "output_type": "display_data"
    }
   ],
   "source": [
    "for feature in good_features:  \n",
    "    print(feature)\n",
    "    plt.hist(X_train[feature])\n",
    "    plt.show()"
   ]
  },
  {
   "cell_type": "code",
   "execution_count": 504,
   "metadata": {
    "collapsed": false
   },
   "outputs": [
    {
     "data": {
      "text/plain": [
       "count    24521.000000\n",
       "mean        84.727050\n",
       "std         14.218949\n",
       "min          2.000000\n",
       "25%         85.000000\n",
       "50%         91.000000\n",
       "75%         92.000000\n",
       "max         93.000000\n",
       "Name: FEATURE_170, dtype: float64"
      ]
     },
     "execution_count": 504,
     "metadata": {},
     "output_type": "execute_result"
    }
   ],
   "source": [
    "(X['FEATURE_170'] * 3).describe()"
   ]
  },
  {
   "cell_type": "code",
   "execution_count": 512,
   "metadata": {
    "collapsed": false,
    "scrolled": false
   },
   "outputs": [
    {
     "name": "stdout",
     "output_type": "stream",
     "text": [
      "FEATURE_0 0.0 385.0\n",
      "FEATURE_1 0.0 39.0\n",
      "FEATURE_2 0.0 1.0\n",
      "FEATURE_3 0.0 0.0\n",
      "FEATURE_4 0.0 1.0\n",
      "FEATURE_5 0.0 1.0\n",
      "FEATURE_6 0.0 1.0\n",
      "FEATURE_7 -171.7097968257043 3147.341440072919\n",
      "FEATURE_8 -297.06567917699084 9963.242114223758\n",
      "FEATURE_9 0.0 11.0\n",
      "FEATURE_10 0.0 5.0\n",
      "FEATURE_11 0.0 1.0\n",
      "FEATURE_12 -311.40228779643815 7251.231109364838\n",
      "FEATURE_13 0.0 938.0\n",
      "FEATURE_14 0.0 24.0\n",
      "FEATURE_15 0.0 1.0\n",
      "FEATURE_16 0.0 1.0\n",
      "FEATURE_17 0.0 1.0\n",
      "FEATURE_18 0.0 1.0\n",
      "FEATURE_19 0.0 1.0\n",
      "FEATURE_20 -100.0 225.0\n",
      "FEATURE_21 -117.66986877806093 308.5483975023712\n",
      "FEATURE_22 -100.0 300.0\n",
      "FEATURE_23 -123.30502454073293 324.1774933299535\n",
      "FEATURE_24 -122.61734029453302 309.9422887243124\n",
      "FEATURE_25 0.0 2284.2\n",
      "FEATURE_26 -111.80244744447162 260.7662247662426\n",
      "FEATURE_27 0.0 1360.0\n",
      "FEATURE_28 0.0 9990.0\n",
      "FEATURE_29 0.0 782.0\n",
      "FEATURE_30 0.0 1196.0\n",
      "FEATURE_31 0.0 1208.0\n",
      "FEATURE_32 0.0 2124.0\n",
      "FEATURE_33 -373.307473738672 51330.79297157397\n",
      "FEATURE_34 -320.5699781216053 52173.41813825084\n",
      "FEATURE_35 -310.39075455207774 55836.82271540166\n",
      "FEATURE_36 -411.3208972564792 65527.09506394946\n",
      "FEATURE_37 -363.0869851244578 68677.1609769629\n",
      "FEATURE_38 -313.10608336852454 78553.05152967972\n",
      "FEATURE_39 0.0 7480.0\n",
      "FEATURE_40 0.0 9670.0\n",
      "FEATURE_41 0.0 8815.0\n",
      "FEATURE_42 0.0 7009.0\n",
      "FEATURE_43 0.0 8074.0\n",
      "FEATURE_44 0.0 8572.0\n",
      "FEATURE_45 -354.9167325163224 76354.10132535979\n",
      "FEATURE_46 -269.22458382449827 73322.3716575221\n",
      "FEATURE_47 -331.081181860145 78161.10567438995\n",
      "FEATURE_48 -332.95312331890096 75069.85302859517\n",
      "FEATURE_49 -316.3173930172398 78594.96590617957\n",
      "FEATURE_50 -307.50947255791 78358.27604892664\n",
      "FEATURE_51 -348.46686671837205 76347.79603125005\n",
      "FEATURE_52 -365.5631693899569 80014.79934983928\n",
      "FEATURE_53 -326.3899953548284 98426.01826402938\n",
      "FEATURE_54 -448.7383967280532 99902.33018700566\n",
      "FEATURE_55 -329.1880783512485 88510.24920262049\n",
      "FEATURE_56 -265.68092963675997 95115.09329326307\n",
      "FEATURE_57 -229.1367465628457 8388.310170945977\n",
      "FEATURE_58 -188.17356936684845 4659.093782469671\n",
      "FEATURE_59 -156.58837631350048 3831.988913221929\n",
      "FEATURE_60 -147.11918311494037 5373.826814370911\n",
      "FEATURE_61 -217.67328761058812 6860.0000563430785\n",
      "FEATURE_62 -183.66931561727475 8228.431247134256\n",
      "FEATURE_63 -257.999023338614 8542.441512696365\n",
      "FEATURE_64 -233.16655935880584 5728.132488357472\n",
      "FEATURE_65 -223.3837019025349 6012.219338792056\n",
      "FEATURE_66 -219.2627133821236 6547.6652733796\n",
      "FEATURE_67 -273.28833952677303 7053.817680197622\n",
      "FEATURE_68 -234.9651604409319 8495.800287630642\n",
      "FEATURE_69 0.0 31.0\n",
      "FEATURE_70 0.0 31.0\n",
      "FEATURE_71 -155.26766279377918 1940.4443501943795\n",
      "FEATURE_72 -154.9324956455828 1804.9835475236093\n",
      "FEATURE_73 -170.4911566275627 1821.3116387932089\n",
      "FEATURE_74 0.0 91.0\n",
      "FEATURE_75 0.0 61.0\n",
      "FEATURE_76 0.0 76.0\n",
      "FEATURE_77 -25.440141957355927 110.30797040957556\n",
      "FEATURE_78 -351.4235342671653 33944.50642847887\n",
      "FEATURE_79 -284.02270077811903 56992.037554547365\n",
      "FEATURE_80 -21.9191688010398 774.9979690149788\n",
      "FEATURE_81 -122.42325883187686 2859.4616806632343\n",
      "FEATURE_82 -0.9704002252152866 101.378997324878\n",
      "FEATURE_83 -70.12380896658921 1911.0158308863417\n",
      "FEATURE_84 -237.4174156593391 5266.650932917898\n",
      "FEATURE_85 -2.0702230255838168 44.71944660161044\n",
      "FEATURE_86 -2.3363228763796333 43.89017773661613\n",
      "FEATURE_87 -4.144084431300604 49.05196298564805\n",
      "FEATURE_88 -8.627391226656062 54.46591878506368\n",
      "FEATURE_89 -1.9606797856851104 44.65686679211701\n",
      "FEATURE_90 -217.71338095915183 7630.912148886913\n",
      "FEATURE_91 -267.8621626613435 7239.560924347956\n",
      "FEATURE_92 -396.95910801847685 9328.392598160899\n",
      "FEATURE_93 -280.8285845393194 17303.587361944068\n",
      "FEATURE_94 -123.06254617078226 2866.408633942392\n",
      "FEATURE_95 -0.7905549987627107 30.06106460783589\n",
      "FEATURE_96 -3.07171630338632 46.32255404235656\n",
      "FEATURE_97 -2.0162027697387166 59.08632469957778\n",
      "FEATURE_98 -2.6039415203865404 85.85217913604849\n",
      "FEATURE_99 -1.349371400049187 44.825786210252886\n",
      "FEATURE_100 -6.089630080146826 306.50024199786077\n",
      "FEATURE_101 -14.591536845700407 568.5036429476787\n",
      "FEATURE_102 -48.10247275505224 788.5962204798789\n",
      "FEATURE_103 -83.06521825313537 1953.2547853319413\n",
      "FEATURE_104 -11.584558943537575 309.6244705905405\n",
      "FEATURE_105 -0.6099997577010275 26.428843918581467\n",
      "FEATURE_106 -1.213551618502386 39.97856161987517\n",
      "FEATURE_107 -2.6240267190328472 50.882888745530366\n",
      "FEATURE_108 -0.7105514962477638 79.51381598450034\n",
      "FEATURE_109 -1.050433850960384 32.58455194317188\n",
      "FEATURE_110 0.0 69.6666666666667\n",
      "FEATURE_111 0.0 137.0\n",
      "FEATURE_112 -8.07063987075999 426.9559628012294\n",
      "FEATURE_113 -36.57134710104589 1159.5476942426599\n",
      "FEATURE_114 0.0 189.666666666667\n",
      "FEATURE_115 0.0 271.0\n",
      "FEATURE_116 0.0 488.0\n",
      "FEATURE_117 0.0 147.0\n",
      "FEATURE_118 0.0 209.0\n",
      "FEATURE_119 0.0 233.0\n",
      "FEATURE_120 0.0 306.0\n",
      "FEATURE_121 0.0 322.0\n",
      "FEATURE_122 0.0 995.0\n",
      "FEATURE_123 0.0 1.0\n",
      "FEATURE_124 0.0 1042.0\n",
      "FEATURE_125 0.0 508.0\n",
      "FEATURE_126 0.0 650.0\n",
      "FEATURE_127 -12.42093121725742 118.85267612845622\n",
      "FEATURE_128 -99.58995846950432 2828.067128009549\n",
      "FEATURE_129 -61.362316367074854 2851.4682290943847\n",
      "FEATURE_130 -36.45933388355596 1139.2452628809885\n",
      "FEATURE_131 0.0 1.0\n",
      "FEATURE_132 0.0 950.0\n",
      "FEATURE_133 0.0 621.0\n",
      "FEATURE_134 0.0 557.0\n",
      "FEATURE_135 -2.596389669366716 112.9715873979693\n",
      "FEATURE_136 -125.78362063890972 6916.546692127644\n",
      "FEATURE_137 -88.80619128749555 5911.56954933692\n",
      "FEATURE_138 -96.63692294406077 6908.322271334436\n",
      "FEATURE_139 0.0 17462.71\n",
      "FEATURE_140 0.0 1.0\n",
      "FEATURE_141 0.0 2416.84\n",
      "FEATURE_142 0.0 792.0\n",
      "FEATURE_143 -16.40268007789541 1069.2884549734247\n",
      "FEATURE_144 0.0 0.0\n",
      "FEATURE_145 0.0 405.0\n",
      "FEATURE_146 0.0 468.0\n",
      "FEATURE_147 -213.95603158424458 4914.186496095164\n",
      "FEATURE_148 0.0 1.0\n",
      "FEATURE_149 0.0 552.0\n",
      "FEATURE_150 0.0 2275.0\n",
      "FEATURE_151 0.0 18.0\n",
      "FEATURE_152 0.0 46.0\n",
      "FEATURE_153 0.0 3000.0\n",
      "FEATURE_154 0.0 46.0\n",
      "FEATURE_155 0.0 211.0\n",
      "FEATURE_156 0.0 2.0\n",
      "FEATURE_157 0.0 4.0\n",
      "FEATURE_158 1.0 273.0\n",
      "FEATURE_159 0.0 1.0\n",
      "FEATURE_160 -268.82082564927697 30507.131971288763\n",
      "FEATURE_161 -139.41681243889806 16674.20675628242\n",
      "FEATURE_162 -116.31779081316263 10063.978099857193\n",
      "FEATURE_163 -145.44298912674762 11344.604629099364\n",
      "FEATURE_164 -194.0422734832496 33653.328172197675\n",
      "FEATURE_165 0.0 62.0\n",
      "FEATURE_166 1.0 353.0\n",
      "FEATURE_167 1.0 178.0\n",
      "FEATURE_168 -38.5492601744948 1031.8784375109026\n",
      "FEATURE_169 0.6666666666666661 138.0\n",
      "FEATURE_170 0.6666666666666661 31.0\n",
      "FEATURE_171 0.0 172.0\n",
      "FEATURE_172 0.0 87.0\n",
      "FEATURE_173 0.0 1325.0\n",
      "FEATURE_174 0.0 164.0\n",
      "FEATURE_175 0.0 339.0\n",
      "FEATURE_176 0.0 500.0\n",
      "FEATURE_177 -313.09841702063 17081.17501316789\n",
      "FEATURE_178 0.0 1190.0\n",
      "FEATURE_179 0.0 30.0\n",
      "FEATURE_180 0.0 31.0\n",
      "FEATURE_181 -254.71491255822457 5852.068543202097\n",
      "FEATURE_182 -0.7268729774220901 7297.3711649126135\n",
      "FEATURE_183 -207.6489497665396 1960.7054709321146\n",
      "FEATURE_184 1.0 42.0\n",
      "FEATURE_185 0.0 1269.0\n",
      "FEATURE_186 -88.35231682474671 7353.419589348548\n",
      "FEATURE_187 -114.82512097184996 1591.1549925886166\n",
      "FEATURE_188 -141.24971891842017 1509.201236749691\n",
      "FEATURE_189 0.0 1325.0\n",
      "FEATURE_190 -148.47143938828734 1559.6366072220599\n",
      "FEATURE_191 -201.88610618458625 1606.2951982729198\n",
      "FEATURE_192 -188.39956501410114 1523.790747348956\n",
      "FEATURE_193 -219.01168839439472 1535.1467701254555\n",
      "FEATURE_194 0.0 1307.0\n",
      "FEATURE_195 -206.1362184131763 1816.0448758796701\n",
      "FEATURE_196 0.0 1460.0\n",
      "FEATURE_197 0.0 622.0\n",
      "FEATURE_198 0.0 365.0\n",
      "FEATURE_199 -1.0 91.0\n",
      "FEATURE_200 0.0 41.0\n",
      "FEATURE_201 0.0 214.0\n",
      "FEATURE_202 0.0 39.0\n",
      "FEATURE_203 0.0 4.0\n",
      "FEATURE_204 0.0 1.0\n",
      "FEATURE_205 0.0 1.0\n",
      "FEATURE_206 0.0 4.0\n",
      "FEATURE_207 0.0 1.0\n",
      "FEATURE_208 0.0 1.0\n",
      "FEATURE_209 0.0 6.0\n",
      "FEATURE_210 0.0 6.0\n",
      "FEATURE_211 0.0 6.0\n",
      "FEATURE_212 0.0 6.0\n",
      "FEATURE_213 0.0 6.0\n",
      "FEATURE_214 0.0 6.0\n",
      "FEATURE_215 0.0 2616.0\n",
      "FEATURE_216 0.0 2605.0\n",
      "FEATURE_217 -270.21635918621985 37421.23134539605\n",
      "FEATURE_218 1.0 6.0\n",
      "FEATURE_219 0.0 6.0\n",
      "FEATURE_220 1.0 4.0\n",
      "FEATURE_221 0.0 2738.0\n",
      "FEATURE_222 0.0 2695.0\n",
      "FEATURE_223 -338.85844540263224 39200.810518650615\n",
      "FEATURE_224 -15.0 1189.0\n",
      "FEATURE_225 -236.5858400858389 11167.281675419375\n",
      "FEATURE_226 0.0 1733.0\n",
      "FEATURE_227 0.0 1781.0\n",
      "FEATURE_228 -88.37689751612041 2257.0633652794245\n",
      "FEATURE_229 0.0 708.0\n",
      "FEATURE_230 -346.1097310505011 63776.24059485269\n",
      "FEATURE_231 0.0 5854.0\n",
      "FEATURE_232 -334.9603210770016 62195.94333158133\n",
      "FEATURE_233 -383.8400055919733 81867.42457708363\n",
      "FEATURE_234 0.0 3809.0\n",
      "FEATURE_235 -172.37867277590775 5989.690592907994\n",
      "FEATURE_236 -141.9919620157771 5432.067732720016\n",
      "FEATURE_237 -287.26117200746927 6285.268213566342\n",
      "FEATURE_238 0.0 5013.0\n",
      "FEATURE_239 0.0 2651.0\n",
      "FEATURE_240 -159.8621409282525 3866.249001931309\n",
      "FEATURE_241 0.0 1958.0\n",
      "FEATURE_242 -339.0 847.0\n",
      "FEATURE_243 -327.0 1633.0\n",
      "FEATURE_244 -2416.182023420752 2194.0069214445507\n",
      "FEATURE_245 0.0 1958.0\n",
      "FEATURE_246 0.0 1475.0\n",
      "FEATURE_247 0.0 3239.0\n",
      "FEATURE_248 0.0 1483.0\n",
      "FEATURE_249 0.0 0.0\n",
      "FEATURE_250 -1256.0 1775.0\n",
      "FEATURE_251 -667.0 3194.0\n",
      "FEATURE_252 -1531.0634351868387 4202.9053959194625\n",
      "FEATURE_253 -328.36164858657816 4440.53497870854\n",
      "FEATURE_254 0.0 1.0\n",
      "FEATURE_255 0.0 1.0\n",
      "FEATURE_256 0.0 0.0\n",
      "FEATURE_257 1.0 3.0\n",
      "FEATURE_258 0.0 3.0\n",
      "FEATURE_259 1.0 3.0\n"
     ]
    }
   ],
   "source": [
    "for feature in features:\n",
    "    print(feature, min(X[feature].fillna(0)), max(X[feature].fillna(0)))"
   ]
  },
  {
   "cell_type": "code",
   "execution_count": 514,
   "metadata": {
    "collapsed": false
   },
   "outputs": [
    {
     "data": {
      "image/png": "[encoded data removed]",
      "text/plain": [
       "<matplotlib.figure.Figure at 0x115835cc0>"
      ]
     },
     "metadata": {},
     "output_type": "display_data"
    }
   ],
   "source": [
    "plt.hist(X['FEATURE_198'])\n",
    "plt.show()"
   ]
  },
  {
   "cell_type": "code",
   "execution_count": 518,
   "metadata": {
    "collapsed": false,
    "scrolled": true
   },
   "outputs": [
    {
     "data": {
      "text/plain": [
       "0      0.0\n",
       "1      0.0\n",
       "2      0.0\n",
       "3      0.0\n",
       "4      0.0\n",
       "5      0.0\n",
       "6      0.0\n",
       "7      2.0\n",
       "8      1.0\n",
       "9      1.0\n",
       "10     0.0\n",
       "11     0.0\n",
       "12    38.0\n",
       "13     0.0\n",
       "14     0.0\n",
       "15     0.0\n",
       "16     2.0\n",
       "17     0.0\n",
       "18     0.0\n",
       "19     0.0\n",
       "20     0.0\n",
       "21     0.0\n",
       "22     0.0\n",
       "23     0.0\n",
       "24     1.0\n",
       "25     0.0\n",
       "26     0.0\n",
       "27     0.0\n",
       "28     1.0\n",
       "29     0.0\n",
       "30     2.0\n",
       "31     0.0\n",
       "32     0.0\n",
       "33     0.0\n",
       "34     0.0\n",
       "35     2.0\n",
       "36     1.0\n",
       "37     0.0\n",
       "38     1.0\n",
       "39     0.0\n",
       "40     2.0\n",
       "41     0.0\n",
       "42     2.0\n",
       "43     0.0\n",
       "44     1.0\n",
       "45     0.0\n",
       "46     0.0\n",
       "47     0.0\n",
       "48     0.0\n",
       "49     0.0\n",
       "Name: FEATURE_198, dtype: float64"
      ]
     },
     "execution_count": 518,
     "metadata": {},
     "output_type": "execute_result"
    }
   ],
   "source": [
    "X['FEATURE_198'][:50]"
   ]
  },
  {
   "cell_type": "code",
   "execution_count": 517,
   "metadata": {
    "collapsed": false
   },
   "outputs": [
    {
     "data": {
      "text/plain": [
       "0     1\n",
       "1     0\n",
       "2     1\n",
       "3     0\n",
       "4     0\n",
       "5     0\n",
       "6     0\n",
       "7     1\n",
       "8     1\n",
       "9     0\n",
       "10    0\n",
       "11    1\n",
       "12    1\n",
       "13    0\n",
       "14    0\n",
       "15    1\n",
       "16    0\n",
       "17    0\n",
       "18    1\n",
       "19    0\n",
       "Name: TARGET, dtype: int64"
      ]
     },
     "execution_count": 517,
     "metadata": {},
     "output_type": "execute_result"
    }
   ],
   "source": [
    "lol_features = featuresp"
   ]
  },
  {
   "cell_type": "code",
   "execution_count": 574,
   "metadata": {
    "collapsed": false
   },
   "outputs": [
    {
     "name": "stderr",
     "output_type": "stream",
     "text": [
      "/Users/ocksumoron/anaconda/envs/py36/lib/python3.6/site-packages/ipykernel_launcher.py:3: FutureWarning: reshape is deprecated and will raise in a subsequent release. Please use .values.reshape(...) instead\n",
      "  This is separate from the ipykernel package so we can avoid doing imports until\n"
     ]
    },
    {
     "data": {
      "text/plain": [
       "LinearRegression(copy_X=True, fit_intercept=True, n_jobs=1, normalize=False)"
      ]
     },
     "execution_count": 574,
     "metadata": {},
     "output_type": "execute_result"
    }
   ],
   "source": [
    "from sklearn.linear_model import LinearRegression\n",
    "lr = LinearRegression()\n",
    "lr.fit(X[features[186]].reshape(-1, 1), X[features[182]])"
   ]
  },
  {
   "cell_type": "code",
   "execution_count": 575,
   "metadata": {
    "collapsed": false
   },
   "outputs": [
    {
     "name": "stderr",
     "output_type": "stream",
     "text": [
      "/Users/ocksumoron/anaconda/envs/py36/lib/python3.6/site-packages/ipykernel_launcher.py:1: FutureWarning: reshape is deprecated and will raise in a subsequent release. Please use .values.reshape(...) instead\n",
      "  \"\"\"Entry point for launching an IPython kernel.\n"
     ]
    },
    {
     "data": {
      "text/plain": [
       "array([1350.91376413, 4914.3813665 , 4909.42923632, ..., 3311.77869097,\n",
       "       5080.42022195, 5089.89334526])"
      ]
     },
     "execution_count": 575,
     "metadata": {},
     "output_type": "execute_result"
    }
   ],
   "source": [
    "lr.predict(X[features[186]].reshape(-1, 1))"
   ]
  },
  {
   "cell_type": "code",
   "execution_count": 580,
   "metadata": {
    "collapsed": false
   },
   "outputs": [
    {
     "name": "stderr",
     "output_type": "stream",
     "text": [
      "/Users/ocksumoron/anaconda/envs/py36/lib/python3.6/site-packages/ipykernel_launcher.py:2: FutureWarning: reshape is deprecated and will raise in a subsequent release. Please use .values.reshape(...) instead\n",
      "  \n"
     ]
    },
    {
     "data": {
      "text/plain": [
       "4934.677542396585"
      ]
     },
     "execution_count": 580,
     "metadata": {},
     "output_type": "execute_result"
    }
   ],
   "source": [
    "from sklearn.metrics import mean_squared_error\n",
    "mean_squared_error(lr.predict(X[features[186]].reshape(-1, 1)), X[features[182]])"
   ]
  },
  {
   "cell_type": "code",
   "execution_count": 573,
   "metadata": {
    "collapsed": false,
    "scrolled": false
   },
   "outputs": [],
   "source": [
    "bad_features = [features[245]]"
   ]
  },
  {
   "cell_type": "code",
   "execution_count": 581,
   "metadata": {
    "collapsed": false
   },
   "outputs": [
    {
     "name": "stderr",
     "output_type": "stream",
     "text": [
      "/Users/ocksumoron/anaconda/envs/py36/lib/python3.6/site-packages/ipykernel_launcher.py:1: FutureWarning: reshape is deprecated and will raise in a subsequent release. Please use .values.reshape(...) instead\n",
      "  \"\"\"Entry point for launching an IPython kernel.\n"
     ]
    },
    {
     "data": {
      "text/plain": [
       "<matplotlib.collections.PathCollection at 0x12510d2b0>"
      ]
     },
     "execution_count": 581,
     "metadata": {},
     "output_type": "execute_result"
    },
    {
     "data": {
      "image/png": "[encoded data removed]",
      "text/plain": [
       "<matplotlib.figure.Figure at 0x10e8a19b0>"
      ]
     },
     "metadata": {},
     "output_type": "display_data"
    }
   ],
   "source": [
    "plt.scatter(lr.predict(X[features[186]].reshape(-1, 1)), X[features[182]])"
   ]
  },
  {
   "cell_type": "code",
   "execution_count": null,
   "metadata": {
    "collapsed": true
   },
   "outputs": [],
   "source": []
  }
 ],
 "metadata": {
  "kernelspec": {
   "display_name": "py36",
   "language": "python",
   "name": "py36"
  },
  "language_info": {
   "codemirror_mode": {
    "name": "ipython",
    "version": 3
   },
   "file_extension": ".py",
   "mimetype": "text/x-python",
   "name": "python",
   "nbconvert_exporter": "python",
   "pygments_lexer": "ipython3",
   "version": "3.6.1"
  }
 },
 "nbformat": 4,
 "nbformat_minor": 2
}
